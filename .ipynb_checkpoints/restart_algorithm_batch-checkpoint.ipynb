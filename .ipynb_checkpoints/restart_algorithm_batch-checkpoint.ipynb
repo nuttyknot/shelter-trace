{
 "cells": [
  {
   "cell_type": "code",
   "execution_count": 1,
   "metadata": {
    "collapsed": true
   },
   "outputs": [],
   "source": [
    "from os import path\n",
    "import pandas as pd\n",
    "import numpy as np"
   ]
  },
  {
   "cell_type": "code",
   "execution_count": 2,
   "metadata": {
    "collapsed": false
   },
   "outputs": [],
   "source": [
    "traces = [\n",
    "    ('T1' , '/home/tiratatp/Repositories/snia_traces/T1/LiveMapsBackEnd/Combined/disk1_filtered_1hrs_sheltered.txt'),\n",
    "    ('T2' , '/home/tiratatp/Repositories/snia_traces/T2/DisplayAdsDataServer/Combined/disk0_1hrs_sheltered.txt'),\n",
    "    ('T3' , '/home/tiratatp/Repositories/snia_traces/T3/DisplayAdsPayload/Combined/disk0_1hrs_sheltered.txt'),\n",
    "    ('T4' , '/home/tiratatp/Repositories/snia_traces/T4/Exchange-Server-Traces/Combined/disk8_1hrs_sheltered.txt'),\n",
    "    ('T5' , '/home/tiratatp/Repositories/snia_traces/T5/MSNStorageCFS/Combined/disk6_filtered_1hrs_sheltered.txt'),\n",
    "    ('T6' , '/home/tiratatp/Repositories/snia_traces/T6/MSNStorageFileServer/Combined/disk5_filtered_1hrs_sheltered.txt'),\n",
    "    ('T7' , '/home/tiratatp/Repositories/snia_traces/T7/BuildServer/Combined/disk0_filtered_1hrs_sheltered.txt'),\n",
    "    ('T8' , '/home/tiratatp/Repositories/snia_traces/T8/DevelopmentToolsRelease/Combined/disk6_filtered_1hrs_sheltered.txt'),\n",
    "    ('T9' , '/home/tiratatp/Repositories/snia_traces/T9/RadiusAuthentication/Combined/disk0_filtered_1hrs_sheltered.txt'),\n",
    "    ('T10', '/home/tiratatp/Repositories/snia_traces/T10/RadiusBackEndSQLServer/Combined/disk4_filtered_1hrs_sheltered.txt'),    \n",
    "]\n",
    "\n",
    "last_block=1953525167"
   ]
  },
  {
   "cell_type": "code",
   "execution_count": 3,
   "metadata": {
    "collapsed": false
   },
   "outputs": [
    {
     "name": "stdout",
     "output_type": "stream",
     "text": [
      "COUNT All: 277 After merging: 100 After filter out OOB: 100\n",
      "BYTE All: 3722 After merging: 3722 After filter out OOB: 3722\n",
      "COUNT All: 25089 After merging: 77 After filter out OOB: 77\n",
      "BYTE All: 432104 After merging: 405136 After filter out OOB: 405136\n",
      "COUNT All: 29448 After merging: 203 After filter out OOB: 203\n",
      "BYTE All: 458568 After merging: 409779 After filter out OOB: 409779\n",
      "COUNT All: 270203 After merging: 2295 After filter out OOB: 2295\n",
      "BYTE All: 4542384 After merging: 3873774 After filter out OOB: 3873774\n",
      "COUNT All: 13413 After merging: 2098 After filter out OOB: 2098\n",
      "BYTE All: 105897 After merging: 105897 After filter out OOB: 105897\n",
      "COUNT All: 649678 After merging: 1175 After filter out OOB: 1175\n",
      "BYTE All: 10741584 After merging: 9836184 After filter out OOB: 9836184\n",
      "COUNT All: 1142644 After merging: 2386 After filter out OOB: 2184\n",
      "BYTE All: 49586023 After merging: 19197579 After filter out OOB: 18594264\n",
      "COUNT All: 322232 After merging: 892 After filter out OOB: 892\n",
      "BYTE All: 3378919 After merging: 1981097 After filter out OOB: 1981097\n",
      "COUNT All: 52654 After merging: 212 After filter out OOB: 212\n",
      "BYTE All: 789218 After merging: 613368 After filter out OOB: 613368\n",
      "COUNT All: 8878 After merging: 20 After filter out OOB: 20\n",
      "BYTE All: 161030 After merging: 161030 After filter out OOB: 161030\n"
     ]
    }
   ],
   "source": [
    "for trace, trace_file in traces:\n",
    "    # read trace into memory\n",
    "    all_sheltered_requests = pd.read_csv(trace_file, delimiter=' ', usecols=[2,3,5], \\\n",
    "                    header=None, names=['blkno', 'blkcount', 'is_shltr'], \\\n",
    "                    dtype={'blkno':np.int_, 'blkcount':np.int_, 'is_shltr':np.bool_}, \\\n",
    "                    na_filter=False, engine='c')\n",
    "    \n",
    "    # filter just the sheltered IO\n",
    "    all_sheltered_requests = all_sheltered_requests[all_sheltered_requests['is_shltr']]\n",
    "    \n",
    "    # remove exact IO and then sort by blkno and tail\n",
    "    merged_requests = all_sheltered_requests.drop_duplicates(subset=['blkno', 'blkcount'])\\\n",
    "                                            .sort(['blkno', 'blkcount'])\n",
    "    merged_requests['tail'] = merged_requests['blkno'] + merged_requests['blkcount']\n",
    "    \n",
    "    # remove overlapping requests\n",
    "    before_count = None\n",
    "    after_count = len(merged_requests)    \n",
    "    while before_count != after_count:\n",
    "        before_count = after_count \n",
    "        # this should remove most of the overlapping IO\n",
    "        # except the one that e.g\n",
    "        # first IO  : ===========\n",
    "        # second IO :    ===\n",
    "        # third IO  :          ==\n",
    "        # The above example is why we need a loop.\n",
    "        merged_requests['is_ovrlp'] = merged_requests['tail'].shift(1) >= merged_requests['blkno']\n",
    "        merged_requests['io_num'] = (~merged_requests['is_ovrlp']).astype(int).cumsum()   \n",
    "        merged_requests = merged_requests.groupby('io_num', sort=False)\\\n",
    "                                            .agg({\n",
    "                                                'blkno': 'min',            \n",
    "                                                'tail': 'max',\n",
    "                                            })\n",
    "        after_count = len(merged_requests)\n",
    "    \n",
    "    # filter OOB\n",
    "    filtered_requests = merged_requests[merged_requests['tail'] < last_block]\n",
    "    \n",
    "    print \"COUNT All: %d After merging: %d After filter out OOB: %d\" % (len(all_sheltered_requests), len(merged_requests), len(filtered_requests))\n",
    "    print \"BYTE All: %d After merging: %d After filter out OOB: %d\" % \\\n",
    "            (all_sheltered_requests['blkcount'].sum(), \\\n",
    "             (merged_requests['tail'] - merged_requests['blkno']).sum(), \\\n",
    "             (filtered_requests['tail'] - filtered_requests['blkno']).sum())\n",
    "\n",
    "    trace_path_comp = path.split(trace_file)\n",
    "    trace_file_comp = trace_path_comp[1].split('.')\n",
    "    out_file = path.join(trace_path_comp[0], \"%s_writeback.txt\" % trace_file_comp[0])\n",
    "        \n",
    "    with open(out_file, \"w\") as f:\n",
    "        f.write(\"fio version 2 iolog\\n\")\n",
    "        f.write(\"/dev/sdb1 add\\n\")\n",
    "        f.write(\"/dev/sdb1 open\\n\")    \n",
    "        for i in filtered_requests.itertuples():\n",
    "            f.write(\"%s %s %d %d\\n\" % (\"/dev/sdb1\", \"write\", i[0], i[1]))\n",
    "        f.write(\"/dev/sdb1 close\\n\")\n"
   ]
  },
  {
   "cell_type": "code",
   "execution_count": null,
   "metadata": {
    "collapsed": true
   },
   "outputs": [],
   "source": []
  }
 ],
 "metadata": {
  "kernelspec": {
   "display_name": "Python 2",
   "language": "python",
   "name": "python2"
  },
  "language_info": {
   "codemirror_mode": {
    "name": "ipython",
    "version": 2
   },
   "file_extension": ".py",
   "mimetype": "text/x-python",
   "name": "python",
   "nbconvert_exporter": "python",
   "pygments_lexer": "ipython2",
   "version": "2.7.10"
  }
 },
 "nbformat": 4,
 "nbformat_minor": 0
}
