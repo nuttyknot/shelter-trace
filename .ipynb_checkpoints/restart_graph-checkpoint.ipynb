{
 "cells": [
  {
   "cell_type": "code",
   "execution_count": 1,
   "metadata": {
    "collapsed": false
   },
   "outputs": [],
   "source": [
    "import pandas as pd\n",
    "import numpy as np\n",
    "from tqdm import *\n",
    "from pprint import pprint"
   ]
  },
  {
   "cell_type": "code",
   "execution_count": 2,
   "metadata": {
    "collapsed": false
   },
   "outputs": [],
   "source": [
    "traces = [\n",
    "    ('T1' , '/home/tiratatp/Repositories/snia_traces/T1/LiveMapsBackEnd/Combined/disk1_filtered.txt'),\n",
    "    ('T2' , '/home/tiratatp/Repositories/snia_traces/T2/DisplayAdsDataServer/Combined/disk0.txt'),\n",
    "    ('T3' , '/home/tiratatp/Repositories/snia_traces/T3/DisplayAdsPayload/Combined/disk0.txt'),\n",
    "    ('T4' , '/home/tiratatp/Repositories/snia_traces/T4/Exchange-Server-Traces/Combined/disk8.txt'),\n",
    "    ('T5' , '/home/tiratatp/Repositories/snia_traces/T5/MSNStorageCFS/Combined/disk6_filtered.txt'),\n",
    "    ('T6' , '/home/tiratatp/Repositories/snia_traces/T6/MSNStorageFileServer/Combined/disk5_filtered.txt'),\n",
    "    ('T7' , '/home/tiratatp/Repositories/snia_traces/T7/BuildServer/Combined/disk0_filtered.txt'),\n",
    "    ('T8' , '/home/tiratatp/Repositories/snia_traces/T8/DevelopmentToolsRelease/Combined/disk6_filtered.txt'),\n",
    "    ('T9' , '/home/tiratatp/Repositories/snia_traces/T9/RadiusAuthentication/Combined/disk0_filtered.txt'),\n",
    "    ('T10', '/home/tiratatp/Repositories/snia_traces/T10/RadiusBackEndSQLServer/Combined/disk4_filtered.txt'),    \n",
    "]\n",
    "\n",
    "# bin size in ms; 1hour\n",
    "bin_size = 3600000\n",
    "\n",
    "#info about size of preallocated shelters:\n",
    "sheltersize = 10\n",
    "shelterrange = 100"
   ]
  },
  {
   "cell_type": "code",
   "execution_count": 3,
   "metadata": {
    "collapsed": true
   },
   "outputs": [],
   "source": [
    "#MB in sectors\n",
    "one_MB = 2 * 1024\n",
    "x = sheltersize * one_MB\n",
    "y = shelterrange * one_MB\n",
    "assert x < y"
   ]
  },
  {
   "cell_type": "code",
   "execution_count": 12,
   "metadata": {
    "collapsed": false
   },
   "outputs": [],
   "source": [
    "def return_merged_trace(trace):    \n",
    "    # read trace into memory\n",
    "    t = pd.read_csv(trace, delimiter=' ', usecols=[0,2,3,4], \\\n",
    "                    header=None, names=['offset', 'blkno', 'blkcount', 'flag'], \\\n",
    "                    dtype={'offset':np.float_, 'blkno':np.int_, 'blkcount':np.int_, 'flag':np.bool_}, \\\n",
    "                    na_filter=False, engine='c')\n",
    "\n",
    "    # compare previous IO and tag it if it's sequential\n",
    "    t['is_seq'] = (t['flag'].shift(1) == t['flag']) & ((t['blkno'] + t['blkcount']).shift(1) == t['blkno'])\n",
    "    # use cumsum to help group the IO\n",
    "    t['io_num'] = (~t['is_seq']).astype(int).cumsum()\n",
    "    # merge sequential IO\n",
    "    t = t.groupby(['io_num'], sort=False, as_index=False).agg({\n",
    "            'offset': 'first',\n",
    "            'blkno': 'min',\n",
    "            'blkcount': 'sum',\n",
    "            'flag': 'first',\n",
    "        }).reset_index().drop(['index', 'io_num'], 1)\n",
    "    \n",
    "    return t"
   ]
  },
  {
   "cell_type": "code",
   "execution_count": 13,
   "metadata": {
    "collapsed": false,
    "scrolled": true
   },
   "outputs": [
    {
     "name": "stdout",
     "output_type": "stream",
     "text": [
      "{'T1': (18127, 8551, 52.82727423180891),\n",
      " 'T10': (2287446, 2140539, 6.422315543186594),\n",
      " 'T2': (1747081, 186919, 89.30106846791878),\n",
      " 'T3': (3761896, 407115, 89.17793049036975),\n",
      " 'T4': (59741837, 11970701, 79.96261648265018),\n",
      " 'T5': (518762, 423629, 18.338467351116698),\n",
      " 'T6': (49487472, 17279296, 65.08349426295204),\n",
      " 'T7': (142494264, 116285326, 18.39297755873177),\n",
      " 'T8': (28194859, 12880391, 54.3165262858736),\n",
      " 'T9': (12299174, 2979913, 75.77143798437196)}\n",
      "{'T1': -1,\n",
      " 'T10': -1,\n",
      " 'T2': -1,\n",
      " 'T3': -1,\n",
      " 'T4': -1,\n",
      " 'T5': -1,\n",
      " 'T6': (1909.0, 39096320.0, 42962240.0, 4),\n",
      " 'T7': -1,\n",
      " 'T8': -1,\n",
      " 'T9': -1}\n"
     ]
    }
   ],
   "source": [
    "g2_result = {}\n",
    "g3_result = {}\n",
    "\n",
    "for trace, f in tqdm(traces):\n",
    "    t = return_merged_trace(f)\n",
    "    t['tail'] = t['blkno'] + t['blkcount'] # need for several things\n",
    "    t_smallwrite = t[(t['flag'] == 0) & (t['blkcount'] <= 64)].drop('flag', 1)\n",
    "    \n",
    "    # find the number of shelter    \n",
    "    t['shifted_tail'] = t['tail'] + ((t['blkno'] / y) * x)\n",
    "    shelter_count = np.floor(t['shifted_tail'].max() / y)    \n",
    "    # this is the maximum blocks that can be sheltered in this trace\n",
    "    max_sheltered_block = x * shelter_count\n",
    "    \n",
    "    # second graph\n",
    "    before_merging = t_smallwrite['blkcount'].sum()\n",
    "    \n",
    "    # remove exact IO and then sort by blkno and tail\n",
    "    g2 = t_smallwrite.drop_duplicates(subset=['blkno', 'blkcount'])\\\n",
    "                                    .sort(['blkno', 'blkcount'])\\\n",
    "                                    .copy(deep=True)\n",
    "    g2['tail'] = g2['blkno'] + g2['blkcount']\n",
    "    \n",
    "    # remove overlapping requests\n",
    "    before_count = None\n",
    "    after_count = len(g2)    \n",
    "    while before_count != after_count:\n",
    "        before_count = after_count \n",
    "        # this should remove most of the overlapping IO\n",
    "        # except the one that e.g\n",
    "        # first IO  : ===========\n",
    "        # second IO :    ===\n",
    "        # third IO  :          ==\n",
    "        # The above example is why we need a loop.\n",
    "        g2['is_ovrlp'] = g2['tail'].shift(1) >= g2['blkno']\n",
    "        g2['io_num'] = (~g2['is_ovrlp']).astype(int).cumsum()   \n",
    "        g2 = g2.groupby('io_num', sort=False)\\\n",
    "                .agg({\n",
    "                    'blkno': 'min',            \n",
    "                    'tail': 'max',\n",
    "                })\n",
    "        after_count = len(g2)\n",
    "    \n",
    "    after_merging = (g2['tail'] - g2['blkno']).sum()\n",
    "    g2_result[trace] = (\n",
    "        before_merging,\n",
    "        after_merging,\n",
    "        float(before_merging-after_merging)/before_merging*100,\n",
    "        )\n",
    "    \n",
    "    # third graph\n",
    "    sheltered_block_per_period = t_smallwrite['blkcount'].groupby(np.floor(t_smallwrite['offset']/bin_size), sort=False)\\\n",
    "                                                            .sum()\n",
    "    g3 = sheltered_block_per_period.copy(deep=True)\n",
    "    if g3.sum() <= max_sheltered_block:\n",
    "        g3_result[trace] = -1\n",
    "    else:\n",
    "        period = 0\n",
    "        # each iteration is one hour longer period\n",
    "        while not (g3 > max_sheltered_block).any():\n",
    "            period += 1\n",
    "            g3 += sheltered_block_per_period.shift(period)                 \n",
    "        g3_result[trace] = (shelter_count, max_sheltered_block, g3.max(), period)\n",
    "        \n",
    "# the result\n",
    "pprint(g2_result)\n",
    "pprint(g3_result)"
   ]
  },
  {
   "cell_type": "code",
   "execution_count": null,
   "metadata": {
    "collapsed": true
   },
   "outputs": [],
   "source": []
  }
 ],
 "metadata": {
  "kernelspec": {
   "display_name": "Python 2",
   "language": "python",
   "name": "python2"
  },
  "language_info": {
   "codemirror_mode": {
    "name": "ipython",
    "version": 2
   },
   "file_extension": ".py",
   "mimetype": "text/x-python",
   "name": "python",
   "nbconvert_exporter": "python",
   "pygments_lexer": "ipython2",
   "version": "2.7.10"
  }
 },
 "nbformat": 4,
 "nbformat_minor": 0
}
