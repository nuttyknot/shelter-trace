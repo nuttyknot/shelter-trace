{
 "cells": [
  {
   "cell_type": "code",
   "execution_count": 1,
   "metadata": {
    "collapsed": false
   },
   "outputs": [
    {
     "name": "stdout",
     "output_type": "stream",
     "text": [
      "Populating the interactive namespace from numpy and matplotlib\n"
     ]
    }
   ],
   "source": [
    "%pylab inline\n",
    "# make plot bigger\n",
    "pylab.rcParams['figure.figsize'] = (15.0, 12.0)\n",
    "import numpy as np\n",
    "import pandas as pd\n",
    "from os import path"
   ]
  },
  {
   "cell_type": "code",
   "execution_count": 2,
   "metadata": {
    "collapsed": true
   },
   "outputs": [],
   "source": [
    "traces = [\n",
    "    ('T1' , '/home/tiratatp/Repositories/snia_traces/T1/LiveMapsBackEnd/Combined/disk1_filtered.txt'),\n",
    "    ('T2' , '/home/tiratatp/Repositories/snia_traces/T2/DisplayAdsDataServer/Combined/disk0.txt'),\n",
    "    ('T3' , '/home/tiratatp/Repositories/snia_traces/T3/DisplayAdsPayload/Combined/disk0.txt'),\n",
    "    ('T4' , '/home/tiratatp/Repositories/snia_traces/T4/Exchange-Server-Traces/Combined/disk8.txt'),\n",
    "    ('T5' , '/home/tiratatp/Repositories/snia_traces/T5/MSNStorageCFS/Combined/disk6_filtered.txt'),\n",
    "    ('T6' , '/home/tiratatp/Repositories/snia_traces/T6/MSNStorageFileServer/Combined/disk5_filtered.txt'),\n",
    "    ('T7' , '/home/tiratatp/Repositories/snia_traces/T7/BuildServer/Combined/disk0_filtered.txt'),\n",
    "    ('T8' , '/home/tiratatp/Repositories/snia_traces/T8/DevelopmentToolsRelease/Combined/disk6_filtered.txt'),\n",
    "    ('T9' , '/home/tiratatp/Repositories/snia_traces/T9/RadiusAuthentication/Combined/disk0_filtered.txt'),\n",
    "    ('T10', '/home/tiratatp/Repositories/snia_traces/T10/RadiusBackEndSQLServer/Combined/disk4_filtered.txt'),    \n",
    "]\n",
    "\n",
    "# bin size in ms\n",
    "bin_size=900000\n",
    "\n",
    "# need in ms\n",
    "need=3600000"
   ]
  },
  {
   "cell_type": "code",
   "execution_count": null,
   "metadata": {
    "collapsed": false
   },
   "outputs": [],
   "source": [
    "for trace, f in traces:\n",
    "    pd_trace=pd.read_csv(f, delimiter=\" \", names=[\"timestamp\", \"blknum\", \"blkcount\", \"flag\"], index_col=0, usecols=[0, 2, 3, 4])\n",
    "    #pd_trace.head()\n",
    "    \n",
    "    small_writes = pd_trace[np.logical_and(pd_trace['blkcount'] <= 64, pd_trace['flag'] == 0)]\n",
    "    small_writes = np.bincount(small_writes.index.map(lambda t: int(t/bin_size)))\n",
    "    \n",
    "    #big_writes = pd_trace[np.logical_and(pd_trace['blkcount'] > 64, pd_trace['flag'] == 0)]\n",
    "    #big_writes = np.bincount(big_writes.index.map(lambda t: int(t/bin_size)))\n",
    "    \n",
    "    #all_reads = pd_trace[pd_trace['flag'] == 1]\n",
    "    #all_reads = np.bincount(all_reads.index.map(lambda t: int(t/bin_size)))\n",
    "    \n",
    "    need_count = int(np.ceil(need/bin_size))\n",
    "    hist = small_writes\n",
    "    print \"Total:\", len(hist), \"Want:\", need_count\n",
    "    if len(hist) > need_count:\n",
    "        current_range = (0, need_count)\n",
    "        current_count = sum([hist[i] for i in xrange(current_range[0], current_range[1])])\n",
    "        max_count = current_count\n",
    "        max_range = current_range\n",
    "        print \"Starting Range:\", current_range, current_count\n",
    "        for i in xrange(need_count, len(hist)):\n",
    "            current_range = (current_range[0] + 1, current_range[1] + 1)        \n",
    "            current_count = sum([hist[i] for i in xrange(current_range[0], current_range[1])])\n",
    "            if current_count > max_count:\n",
    "                max_count = current_count\n",
    "                max_range = current_range\n",
    "        print \"Max Range:\", max_range, max_count\n",
    "    else:\n",
    "        max_range = (0, len(hist))\n",
    "        max_count = sum([hist[i] for i in xrange(max_range[0], max_range[1])])    \n",
    "        \n",
    "    #print \"You should filter from\", max_range[0] * bin_size, \"to\", max_range[1] * bin_size\n",
    "    trace_path_comp = path.split(f)\n",
    "    trace_file_comp = trace_path_comp[1].split('.')\n",
    "    out_file = path.join(trace_path_comp[0], \".\".join([trace_file_comp[0], \"_%dhrs\" % (need/3600000)]))\n",
    "    print \"awk '$1 >= %d && $1 <= %d' %s > %s\" % (max_range[0] * bin_size, max_range[1] * bin_size, f, out_file)"
   ]
  },
  {
   "cell_type": "code",
   "execution_count": 8,
   "metadata": {
    "collapsed": false
   },
   "outputs": [
    {
     "data": {
      "image/png": "[encoded data removed]",
      "text/plain": [
       "<matplotlib.figure.Figure at 0x7f91f441e0d0>"
      ]
     },
     "metadata": {},
     "output_type": "display_data"
    }
   ],
   "source": [
    "ind = xrange(0, len(big_writes))\n",
    "width = 0.8\n",
    "p1 = plt.bar(ind, big_writes,   width, color='y')\n",
    "p2 = plt.bar(ind, small_writes, width, color='r')\n",
    "#p3 = plt.bar(ind, all_reads, width, color='b')            \n",
    "             \n",
    "plt.ylabel('IO Count')\n",
    "plt.xlabel(\"Bin\")\n",
    "#plt.legend( (p1[0], p2[0], p3[0]), ('Big Writes', 'Small Writes', 'Reads') )\n",
    "\n",
    "plt.show()             "
   ]
  },
  {
   "cell_type": "code",
   "execution_count": null,
   "metadata": {
    "collapsed": true
   },
   "outputs": [],
   "source": []
  }
 ],
 "metadata": {
  "kernelspec": {
   "display_name": "Python 2",
   "language": "python",
   "name": "python2"
  },
  "language_info": {
   "codemirror_mode": {
    "name": "ipython",
    "version": 2
   },
   "file_extension": ".py",
   "mimetype": "text/x-python",
   "name": "python",
   "nbconvert_exporter": "python",
   "pygments_lexer": "ipython2",
   "version": "2.7.10"
  }
 },
 "nbformat": 4,
 "nbformat_minor": 0
}
