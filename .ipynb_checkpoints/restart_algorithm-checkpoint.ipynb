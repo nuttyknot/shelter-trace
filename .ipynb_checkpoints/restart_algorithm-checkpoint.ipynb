{
 "cells": [
  {
   "cell_type": "code",
   "execution_count": 2,
   "metadata": {
    "collapsed": true
   },
   "outputs": [],
   "source": [
    "import csv, operator"
   ]
  },
  {
   "cell_type": "code",
   "execution_count": 1,
   "metadata": {
    "collapsed": true
   },
   "outputs": [],
   "source": [
    "path = \"/home/tiratatp/Repositories/snia_traces/T4/Exchange-Server-Traces/Combined\"\n",
    "trace_file = path + \"/disk8_8hrs_sheltered.txt\"\n",
    "out_file = path + \"/disk8_8hrs_sheltered_writeback.txt\"\n",
    "last_block=1953525167"
   ]
  },
  {
   "cell_type": "code",
   "execution_count": 3,
   "metadata": {
    "collapsed": false
   },
   "outputs": [],
   "source": [
    "all_sheltered_requests = []\n",
    "with open(trace_file, \"r\") as f:\n",
    "    reader = csv.reader(f, delimiter=\" \")\n",
    "    for line in reader:\n",
    "        if line[5] == '1':\n",
    "            all_sheltered_requests.append((int(line[2]) * 512, int(line[3]) * 512))"
   ]
  },
  {
   "cell_type": "code",
   "execution_count": 4,
   "metadata": {
    "collapsed": false
   },
   "outputs": [],
   "source": [
    "all_sheltered_requests = sorted(all_sheltered_requests, key=operator.itemgetter(0))"
   ]
  },
  {
   "cell_type": "code",
   "execution_count": 5,
   "metadata": {
    "collapsed": false
   },
   "outputs": [],
   "source": [
    "# merge consecutive IOs or overlapping IOs\n",
    "merged_requests = []\n",
    "len_all_sheltered_requests = len(all_sheltered_requests)\n",
    "x = 0\n",
    "while x < len_all_sheltered_requests:\n",
    "    req = all_sheltered_requests[x]\n",
    "    tail = req[0] + req[1]\n",
    "    y = x + 1\n",
    "    while y < len_all_sheltered_requests and tail >= all_sheltered_requests[y][0]:\n",
    "        if tail == all_sheltered_requests[y][0]:\n",
    "            req = (req[0], req[1] + all_sheltered_requests[y][1])            \n",
    "            tail += all_sheltered_requests[y][1]            \n",
    "        else:\n",
    "            tail = max(tail, all_sheltered_requests[y][0] + all_sheltered_requests[y][1])              \n",
    "        y += 1\n",
    "    merged_requests.append(req)\n",
    "    x = y"
   ]
  },
  {
   "cell_type": "code",
   "execution_count": 6,
   "metadata": {
    "collapsed": false
   },
   "outputs": [
    {
     "name": "stdout",
     "output_type": "stream",
     "text": [
      "All: 1725583 After merging: 2818 After filter out OOB: 2818\n"
     ]
    }
   ],
   "source": [
    "filtered_requests = []\n",
    "for r in merged_requests:\n",
    "    tail = r[0] + r[1]\n",
    "    if tail < (last_block * 512):\n",
    "        filtered_requests.append(r)\n",
    "    elif r[0] < last_block:\n",
    "        print r[0], r[1]\n",
    "print \"All: %d After merging: %d After filter out OOB: %d\" % (len(all_sheltered_requests), len(merged_requests), len(filtered_requests))"
   ]
  },
  {
   "cell_type": "code",
   "execution_count": 7,
   "metadata": {
    "collapsed": false
   },
   "outputs": [],
   "source": [
    "with open(out_file, \"w\") as f:\n",
    "    f.write(\"fio version 2 iolog\\n\")\n",
    "    f.write(\"/dev/sdb1 add\\n\")\n",
    "    f.write(\"/dev/sdb1 open\\n\")    \n",
    "    for i in filtered_requests:\n",
    "        f.write(\"%s %s %d %d\\n\" % (\"/dev/sdb1\", \"write\", i[0], i[1]))\n",
    "    f.write(\"/dev/sdb1 close\\n\")\n",
    "    "
   ]
  },
  {
   "cell_type": "code",
   "execution_count": 8,
   "metadata": {
    "collapsed": false
   },
   "outputs": [
    {
     "name": "stdout",
     "output_type": "stream",
     "text": [
      "[(94371840, 8192), (94371840, 8192), (94380032, 8192), (94380032, 8192), (94388224, 8192)]\n",
      "13935480320\n",
      "7061942272\n"
     ]
    }
   ],
   "source": [
    "print all_sheltered_requests[:5]\n",
    "print sum([bcount for _, bcount in all_sheltered_requests])\n",
    "print sum([bcount for _, bcount in merged_requests])"
   ]
  },
  {
   "cell_type": "code",
   "execution_count": null,
   "metadata": {
    "collapsed": true
   },
   "outputs": [],
   "source": []
  }
 ],
 "metadata": {
  "kernelspec": {
   "display_name": "Python 2",
   "language": "python",
   "name": "python2"
  },
  "language_info": {
   "codemirror_mode": {
    "name": "ipython",
    "version": 2
   },
   "file_extension": ".py",
   "mimetype": "text/x-python",
   "name": "python",
   "nbconvert_exporter": "python",
   "pygments_lexer": "ipython2",
   "version": "2.7.10"
  }
 },
 "nbformat": 4,
 "nbformat_minor": 0
}
