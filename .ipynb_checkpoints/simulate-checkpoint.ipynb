{
 "cells": [
  {
   "cell_type": "code",
   "execution_count": 1,
   "metadata": {
    "collapsed": false
   },
   "outputs": [
    {
     "name": "stdout",
     "output_type": "stream",
     "text": [
      "Populating the interactive namespace from numpy and matplotlib\n"
     ]
    }
   ],
   "source": [
    "%pylab inline\n",
    "# make plot bigger\n",
    "pylab.rcParams['figure.figsize'] = (15.0, 12.0)\n",
    "import glob\n",
    "import re\n",
    "import operator\n",
    "from copy import deepcopy\n",
    "from tqdm import *\n",
    "import csv"
   ]
  },
  {
   "cell_type": "code",
   "execution_count": 2,
   "metadata": {
    "collapsed": true
   },
   "outputs": [],
   "source": [
    "path = \"/home/tiratatp/Repositories/snia_traces/T1/LiveMapsBackEnd/Combined\"\n",
    "trace = path + \"/disk1_filtered.txt\"\n",
    "outtrace = path + \"/disk1_filtered_sheltered.txt\"\n",
    "outshelter =path + \"/disk1_filtered_shelter_read.txt\"\n",
    "last_block=1953525167"
   ]
  },
  {
   "cell_type": "code",
   "execution_count": 3,
   "metadata": {
    "collapsed": false
   },
   "outputs": [],
   "source": [
    "# from Nora\n",
    "\"\"\"\n",
    "Sheltering Simulator.\n",
    "Writes <= 32 KB are sheltered.\n",
    "\"\"\"\n",
    "\n",
    "#IMPORTS\n",
    "import sys\n",
    "import argparse\n",
    "import glob\n",
    "import csv\n",
    "import subprocess\n",
    "import os\n",
    "from copy import copy\n",
    "\n",
    "#CONSTANTS/CONFIG\n",
    "#cutoff size in KB\n",
    "policy_size = 32\n",
    "\n",
    "#MB in sectors\n",
    "one_MB = 2 * 1024\n",
    "\n",
    "#info about size of preallocated shelters:\n",
    "sheltersize = 10\n",
    "shelterrange = 100\n",
    "x = sheltersize * one_MB\n",
    "y = shelterrange * one_MB\n",
    "assert x < y\n",
    "\n",
    "#cleanup = False\n",
    "cleanup = True\n",
    "\n",
    "#FUNCTIONS\n",
    "def round_down(num, divisor):\n",
    "    return num - (num%divisor)\n",
    "\n",
    "#return 1st block number of next shelter after block_num\n",
    "def get_next_shelter (block_num):\n",
    "    shelter = round_down(block_num, y) + (x * 9)\n",
    "    #If shelter starts before block_num, last write must have been sheltered too\n",
    "    #That's okay--we just want beginning of shelter\n",
    "    return shelter\n",
    "\n",
    "#given a request, break it into a list of requests \n",
    "#none of which overlaps with a shelter\n",
    "def dodge_shelters(req):\n",
    "    start = req[2]\n",
    "    size = req[3]\n",
    "    next_shelter = get_next_shelter(start)\n",
    "    if start + size <= next_shelter:\n",
    "        return [req]\n",
    "    else:\n",
    "        overlap = start + size - next_shelter\n",
    "        new_req = copy(req)\n",
    "        new_req[3] = size - overlap\n",
    "        next_req = copy(req)\n",
    "        next_req[2] = next_shelter + x\n",
    "        next_req[3] = overlap\n",
    "        new_reqs = dodge_shelters(next_req)\n",
    "        new_reqs.append(new_req)\n",
    "        return new_reqs\n",
    "\n",
    "#CLASSES\n",
    "class Shelter:\n",
    "    \"\"\"Keep track of information about shelter,\n",
    "    including how full it is and requests in it that need to be cleaned.\"\"\"\n",
    "    def __init__(self, blk):\n",
    "        self.start = blk\n",
    "        self.tail = blk\n",
    "        self.end = self.start + x\n",
    "        assert(self.end % y == 0)\n",
    "        #a request is of the form (blknum, blksize)\n",
    "        #we only keep track of these if we are cleaning up\n",
    "        self.reqs = []\n",
    "        return\n",
    "    def enough_space(self, reqs):\n",
    "        # we don't really care about this we just want to enable \"cleanup\" to keep track of blocks\n",
    "        #return True\n",
    "        if not(cleanup):\n",
    "            #no cleanup, so doesn't matter\n",
    "            return True\n",
    "        else:\n",
    "            total_size = sum([row[3] for row in reqs])\n",
    "            if total_size <= (self.end - self.tail):\n",
    "                return True\n",
    "            else:\n",
    "                return False\n",
    "    def shelter_writes(self, current_reqs):\n",
    "        global window\n",
    "        #assert self.enough_space(current_reqs.requests) \n",
    "        if swap:\n",
    "            while not self.enough_space(current_reqs.requests):\n",
    "                # find the least crowded shelter (window size of `window`)\n",
    "                sorted_shelters = sorted(shelters.items(), key=operator.itemgetter(0))\n",
    "                shelter_by_size = map(lambda tup: sum([bcount for _, bcount in tup[1].reqs]), sorted_shelters)\n",
    "                shelter_by_moving_average_size=list(np.convolve(shelter_by_size, np.ones(window)/window, mode='same'))\n",
    "                selected = sorted_shelters[np.argmin(shelter_by_moving_average_size)]\n",
    "\n",
    "                # swap requests\n",
    "                tmp = selected[1].reqs\n",
    "                selected[1].reqs = self.reqs\n",
    "                self.reqs = tmp\n",
    "\n",
    "                # change tails\n",
    "                selected_size = selected[1].tail - selected[1].start\n",
    "                current_size = self.tail - self.start\n",
    "                selected[1].tail = selected[1].start + current_size\n",
    "                self.tail = self.start + selected_size\n",
    "\n",
    "                if not self.enough_space(current_reqs.requests):    \n",
    "                    if window == 1 or np.average(shelter_by_size) >= (x * 0.9):\n",
    "                        raise ValueError(\"Shelters are really full!\")                    \n",
    "                    window /= 2\n",
    "\n",
    "        #if we need to clean up later, consolidate this list of requests,\n",
    "        #which we know are sequential, into one request, remembering\n",
    "        #where it will need to be written later\n",
    "        if cleanup:\n",
    "            cleanup_req_blk = current_reqs.requests[0][2]\n",
    "            cleanup_req_size = 0\n",
    "        for req in current_reqs.requests:\n",
    "            size = req[3]\n",
    "            req[5] = 1 # mark as sheltered\n",
    "            #make sure request isn't larger than whole shelter\n",
    "            if size > x:\n",
    "                print req\n",
    "                print x\n",
    "                sys.exit(0)\n",
    "            if self.tail + size > self.end:\n",
    "                #out of space, back to beginning of buffer\n",
    "                self.tail = self.start\n",
    "            #modify request to write to tail of shelter\n",
    "            req[2] = self.tail\n",
    "            self.tail += size\n",
    "            if cleanup:\n",
    "                cleanup_req_size += size\n",
    "        if cleanup:\n",
    "            self.reqs.append((cleanup_req_blk, cleanup_req_size))\n",
    "        return\n",
    "\n",
    "class CurrentReq:\n",
    "    \"\"\"Keep track of information about current sequential series of writes.\"\"\"\n",
    "    def __init__(self, request):\n",
    "        #total size of current series of requests\n",
    "        self.size = request[3]\n",
    "        #the requests themselves\n",
    "        self.requests = [request]\n",
    "        #are these reads or writes?\n",
    "        self.flag = request[4]\n",
    "        return\n",
    "    #the next sequential block in this series\n",
    "    def get_next_blk(self):\n",
    "        #we just look at last block; after shifting, this series may no longer be sequential\n",
    "        return self.requests[-1][2] + self.requests[-1][3]\n",
    "    def is_sequential(self, req):\n",
    "        #the next request is sequential IF we have some requests already, \n",
    "        #AND its starting block comes after the tail of these requests, AND it's the same\n",
    "        #type of I/O (i.e. read or write)\n",
    "        return (self.requests and self.get_next_blk() == req[2] and self.flag == req[4])\n",
    "    def add_req(self, request):\n",
    "        assert(self.is_sequential(request))\n",
    "        self.size += request[3]\n",
    "        self.requests.append(request)\n",
    "        return\n",
    "    def should_shelter(self):\n",
    "        return (self.size <= policy_size * 2 and self.flag == 0)\n",
    "    def shift_requests(self):\n",
    "        #if our code is B, don't modify requests\n",
    "        #return\n",
    "        # since in our implementation, we don't shift\n",
    "        #if args.code != \"B\":\n",
    "            new_reqs = []\n",
    "            for req in self.requests:\n",
    "                start_blk = req[2]\n",
    "                size = req[3]\n",
    "                #num_shelters is number of shelters that END behind the FIRST \n",
    "                #block of the request\n",
    "                num_shelters = start_blk / y\n",
    "                shift = num_shelters * x\n",
    "                new_start = start_blk + shift\n",
    "                next_shelter = get_next_shelter(new_start)\n",
    "                if new_start >= next_shelter:\n",
    "                    #new_start is inside a shelter, shift it to just after shelter\n",
    "                    #new_start = next_shelter + x\n",
    "                    new_start += x\n",
    "                    next_shelter = get_next_shelter(new_start)\n",
    "                req[2] = new_start\n",
    "                #split up request as needed so it doesn't run into a shelter\n",
    "                split_reqs = dodge_shelters(req)\n",
    "                split_reqs.reverse()\n",
    "                if not split_reqs:\n",
    "                    print \"no split_reqs!\"\n",
    "                new_reqs.extend(split_reqs)\n",
    "            self.requests = new_reqs\n",
    "            return\n",
    "\n",
    "#HERE IS ANOTHER FUNCTION    \n",
    "            \n",
    "#modify requests in request[disk_num] so they're sheltered\n",
    "def shelter_writes (current_requests):\n",
    "    #if tail is negative, there's nothing to shelter behind,\n",
    "    #because this is the first request for this disk\n",
    "    #so don't change it\n",
    "    if tail >= 0:\n",
    "        shelter_blk = get_next_shelter(tail)\n",
    "        if shelter_blk < tail and not(last_sheltered):\n",
    "            #the tail is inside a shelter\n",
    "            #this should only happen if we're in policy B, so not shifting\n",
    "            #in which case we jump to next shelter\n",
    "            #assert (args.code == \"B\")\n",
    "            #if args.code != \"B\":\n",
    "            print \"shelter block: \"+str(shelter_blk)\n",
    "            print \"tail: \"+str(tail)\n",
    "            sys.exit(0)\n",
    "            shelter_blk += y\n",
    "        if shelter_blk not in shelters:\n",
    "            raise ValueError(\"This should not happen! Try increase `shelter_count` (shelter_blk: %d, shelter#: %d)\" % (shelter_blk, (shelter_blk-(x*9))/y,))\n",
    "        shelter = shelters[shelter_blk]\n",
    "        shelter.shelter_writes(current_requests)\n",
    "    return"
   ]
  },
  {
   "cell_type": "code",
   "execution_count": 4,
   "metadata": {
    "collapsed": true
   },
   "outputs": [],
   "source": [
    "swap = False"
   ]
  },
  {
   "cell_type": "code",
   "execution_count": 5,
   "metadata": {
    "collapsed": false
   },
   "outputs": [
    {
     "name": "stdout",
     "output_type": "stream",
     "text": [
      "max_block: 1894010194 shelter_count: 9248\n",
      "input: /home/tiratatp/Repositories/snia_traces/T1/LiveMapsBackEnd/Combined/disk1_filtered.txt output: /home/tiratatp/Repositories/snia_traces/T1/LiveMapsBackEnd/Combined/disk1_filtered_sheltered.txt\n"
     ]
    }
   ],
   "source": [
    "#MAIN PROCESSING LOOP\n",
    "\n",
    "# change this!\n",
    "#shelter_count = None\n",
    "shelter_count = None\n",
    "if shelter_count is None:\n",
    "    max_block = 0\n",
    "    with open(trace, \"r\") as input:\n",
    "        reader = csv.reader(input, delimiter=' ')\n",
    "        for row in reader:\n",
    "            start_blk = int(row[2])\n",
    "            num_shelters = start_blk / y\n",
    "            shift = num_shelters * x\n",
    "            new_start = start_blk + shift\n",
    "            \n",
    "            last_tail = new_start + int(row[3])\n",
    "            \n",
    "            if last_tail > max_block:\n",
    "                max_block = last_tail\n",
    "    shelter_count = (get_next_shelter(max_block) - (x*9))/y\n",
    "print \"max_block:\", max_block, \"shelter_count:\", shelter_count\n",
    "\n",
    "\n",
    "# full_shelter_search_window\n",
    "window = 100\n",
    "\n",
    "#INITIALIZE\n",
    "#shelters: look up shelter by blk_num\n",
    "shelters = {}\n",
    "\n",
    "# initialize all shelters\n",
    "i=0\n",
    "while i <= shelter_count:    \n",
    "    shelter_blk = y * i + (x * 9)\n",
    "    shelters[shelter_blk] = Shelter(shelter_blk)\n",
    "    i += 1\n",
    "tail = -1\n",
    "current_reqs = None\n",
    "\n",
    "#remember whether last write was sheltered; \n",
    "#this affects how we shelter a write when the current tail is inside a shelter\n",
    "last_sheltered = False\n",
    "\n",
    "print \"input: %s output: %s\" % (trace, outtrace)\n",
    "\n",
    "with open(trace, \"r\") as input, open(outtrace, \"w\") as output:\n",
    "    reader = csv.reader(input, delimiter=' ')\n",
    "    writer = csv.writer(output, delimiter=' ')\n",
    "    for row in tqdm(reader):\n",
    "        \n",
    "        disk_num = row[1]\n",
    "        block_num = int(row[2])\n",
    "        block_size = int(row[3])\n",
    "        flag = int(row[4])\n",
    "\n",
    "        #make row entries ints now so we don't have to cast them later\n",
    "        row[2] = block_num\n",
    "        row[3] = block_size\n",
    "        row[4] = flag\n",
    "        row.append(0) # row[5]; default; not shelter\n",
    "        #print row\n",
    "\n",
    "        if not current_reqs:\n",
    "            #this is the first row!\n",
    "            current_reqs = CurrentReq(row)\n",
    "            continue\n",
    "\n",
    "        if current_reqs.is_sequential(row):\n",
    "            #this is a continuation of the current request\n",
    "            current_reqs.add_req(row)\n",
    "        else:\n",
    "            #this is the beginning of a new request\n",
    "            #first, deal with old request.\n",
    "            if current_reqs.should_shelter():\n",
    "                shelter_writes(current_reqs)\n",
    "                last_sheltered = True\n",
    "            else:\n",
    "                current_reqs.shift_requests()\n",
    "                last_sheltered = False\n",
    "            #Now that requests have been modified as needed,\n",
    "            #we can write them to outfile\n",
    "            for req in current_reqs.requests:\n",
    "                writer.writerow(req)\n",
    "            #update tail\n",
    "            \n",
    "            tail = current_reqs.get_next_blk()\n",
    "            #print current_reqs.requests\n",
    "            current_reqs = CurrentReq(row)\n",
    "    #Now flush any remaining requests to outfile\n",
    "    if current_reqs.should_shelter():\n",
    "        shelter_writes(current_reqs)\n",
    "    else:\n",
    "        current_reqs.shift_requests()\n",
    "    for req in current_reqs.requests:\n",
    "        writer.writerow(req)"
   ]
  },
  {
   "cell_type": "code",
   "execution_count": 6,
   "metadata": {
    "collapsed": false
   },
   "outputs": [],
   "source": [
    "sorted_shelters = sorted(shelters.items(), key=operator.itemgetter(0))\n",
    "shelters_by_bcount = map(lambda tup: (tup[0], sum([bcount for _, bcount in tup[1].reqs])), sorted_shelters)"
   ]
  },
  {
   "cell_type": "code",
   "execution_count": 7,
   "metadata": {
    "collapsed": false
   },
   "outputs": [
    {
     "name": "stdout",
     "output_type": "stream",
     "text": [
      "total sheltered: 18127.0\n"
     ]
    }
   ],
   "source": [
    "print \"total sheltered:\", sum([bcount for _, bcount in shelters_by_bcount])"
   ]
  },
  {
   "cell_type": "code",
   "execution_count": 8,
   "metadata": {
    "collapsed": false
   },
   "outputs": [],
   "source": [
    "with open(outshelter, \"w\") as out:    \n",
    "    for block, shelter in sorted_shelters:\n",
    "        if len(shelter.reqs) == 0:\n",
    "            continue\n",
    "        t = {\n",
    "            \"time\": 0,\n",
    "            \"devno\": 0,\n",
    "            \"blkno\": block,\n",
    "            \"bcount\": sum([bcount for _, bcount in shelter.reqs]),\n",
    "            \"flags\": 1, # read\n",
    "        };\n",
    "        out.write(\"%s %d %d %d %d\\n\" % (\"{0:.3f}\".format(t['time']), t['devno'], t['blkno'], t['bcount'], t['flags']))"
   ]
  },
  {
   "cell_type": "code",
   "execution_count": 9,
   "metadata": {
    "collapsed": false
   },
   "outputs": [
    {
     "data": {
      "image/png": "[encoded data removed]",
      "text/plain": [
       "<matplotlib.figure.Figure at 0x7f7c261e3e10>"
      ]
     },
     "metadata": {},
     "output_type": "display_data"
    }
   ],
   "source": [
    "barlist = plt.bar([block for block, _ in shelters_by_bcount], [bcount for _, bcount in shelters_by_bcount], width = 1, linewidth=3)\n",
    "plt.xlim(shelters_by_bcount[0][0], shelters_by_bcount[-1][0])\n",
    "#for i in xrange(max_range[0], max_range[1]):\n",
    "#    barlist[i].set_color('r')\n",
    "plt.xlabel(\"Block Number in 512-Byte Block\")\n",
    "plt.ylabel(\"Shelter Size in 512-Byte Block\")\n",
    "plt.show()   "
   ]
  },
  {
   "cell_type": "code",
   "execution_count": 10,
   "metadata": {
    "collapsed": false
   },
   "outputs": [
    {
     "name": "stdout",
     "output_type": "stream",
     "text": [
      "(0, 9249) 18127.0 (184320, 0.0) (1894174720, 0.0)\n",
      "(0, 9249) 18127.0 (184320, 0.0) (1894174720, 0.0)\n"
     ]
    },
    {
     "data": {
      "image/png": "[encoded data removed]",
      "text/plain": [
       "<matplotlib.figure.Figure at 0x7f7c2592e910>"
      ]
     },
     "metadata": {},
     "output_type": "display_data"
    },
    {
     "name": "stdout",
     "output_type": "stream",
     "text": [
      "You need to filter from 184320 to 1953709487\n",
      "filter_block_range.sh /home/tiratatp/Repositories/snia_traces/T1/LiveMapsBackEnd/Combined/disk1_filtered.txt 184320 1953709487\n"
     ]
    }
   ],
   "source": [
    "current_range = (0, 1)\n",
    "current_bcount = shelters_by_bcount[0][1]\n",
    "i = 1\n",
    "while i < len(shelters_by_bcount) and shelters_by_bcount[i][0] - shelters_by_bcount[0][0] < last_block:    \n",
    "    current_range = (0, i + 1)\n",
    "    current_bcount += shelters_by_bcount[i][1]\n",
    "    i += 1\n",
    "print current_range, current_bcount, shelters_by_bcount[current_range[0]], shelters_by_bcount[current_range[1] - 1]\n",
    "    \n",
    "max_range = current_range\n",
    "max_bcount = current_bcount\n",
    "while i < len(shelters_by_bcount):\n",
    "    current_range = (current_range[0], i + 1)\n",
    "    current_bcount += shelters_by_bcount[i][1]\n",
    "    while shelters_by_bcount[current_range[1] - 1][0] - shelters_by_bcount[current_range[0]][0] >= last_block:\n",
    "        current_range = (current_range[0] + 1, current_range[1])                \n",
    "        current_bcount -= shelters_by_bcount[current_range[0]][1]\n",
    "        \n",
    "    if (current_bcount > max_bcount):\n",
    "        max_bcount = current_bcount\n",
    "        max_range = current_range        \n",
    "    i += 1\n",
    "print max_range, max_bcount, shelters_by_bcount[max_range[0]], shelters_by_bcount[max_range[1] - 1]    \n",
    "    \n",
    "barlist = plt.bar([block for block, _ in shelters_by_bcount], [bcount for _, bcount in shelters_by_bcount], width = 1, linewidth=3)\n",
    "plt.xlim(shelters_by_bcount[0][0], shelters_by_bcount[-1][0])\n",
    "for i in xrange(max_range[0], max_range[1]):\n",
    "    barlist[i].set_color('r')\n",
    "plt.xlabel(\"Block Number in 512-Byte Block\")\n",
    "plt.ylabel(\"Shelter Size in 512-Byte Block\")\n",
    "plt.show()   \n",
    "\n",
    "print \"You need to filter from\", shelters_by_bcount[max_range[0]][0], \"to\", shelters_by_bcount[max_range[0]][0] + last_block\n",
    "print \"filter_block_range.sh %s %d %d\" % (trace, shelters_by_bcount[max_range[0]][0], shelters_by_bcount[max_range[0]][0] + last_block)"
   ]
  },
  {
   "cell_type": "code",
   "execution_count": null,
   "metadata": {
    "collapsed": true
   },
   "outputs": [],
   "source": []
  }
 ],
 "metadata": {
  "kernelspec": {
   "display_name": "Python 2",
   "language": "python",
   "name": "python2"
  },
  "language_info": {
   "codemirror_mode": {
    "name": "ipython",
    "version": 2
   },
   "file_extension": ".py",
   "mimetype": "text/x-python",
   "name": "python",
   "nbconvert_exporter": "python",
   "pygments_lexer": "ipython2",
   "version": "2.7.10"
  }
 },
 "nbformat": 4,
 "nbformat_minor": 0
}
