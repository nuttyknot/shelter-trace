{
 "cells": [
  {
   "cell_type": "code",
   "execution_count": 9,
   "metadata": {
    "collapsed": false
   },
   "outputs": [
    {
     "name": "stdout",
     "output_type": "stream",
     "text": [
      "Populating the interactive namespace from numpy and matplotlib\n"
     ]
    },
    {
     "name": "stderr",
     "output_type": "stream",
     "text": [
      "WARNING: pylab import has clobbered these variables: ['hist']\n",
      "`%matplotlib` prevents importing * from pylab and numpy\n"
     ]
    }
   ],
   "source": [
    "%pylab inline\n",
    "# make plot bigger\n",
    "pylab.rcParams['figure.figsize'] = (15.0, 12.0)\n",
    "import csv\n",
    "import numpy as np\n",
    "import pandas as pd"
   ]
  },
  {
   "cell_type": "code",
   "execution_count": 10,
   "metadata": {
    "collapsed": true
   },
   "outputs": [],
   "source": [
    "trace_file=\"/home/tiratatp/Repositories/snia_traces/T3/DisplayAdsPayload/Combined/disk0.txt\"\n",
    "last_block=1953525167\n",
    "# each bin should be 1 GiB\n",
    "# 1 GiB is 512B * 2097152\n",
    "# 10 GiB is 512B * 20971520\n",
    "bin_size=2097152 "
   ]
  },
  {
   "cell_type": "code",
   "execution_count": 11,
   "metadata": {
    "collapsed": false
   },
   "outputs": [
    {
     "data": {
      "text/html": [
       "<div style=\"max-height:1000px;max-width:1500px;overflow:auto;\">\n",
       "<table border=\"1\" class=\"dataframe\">\n",
       "  <thead>\n",
       "    <tr style=\"text-align: right;\">\n",
       "      <th></th>\n",
       "      <th>disk</th>\n",
       "      <th>blknum</th>\n",
       "      <th>blkcount</th>\n",
       "      <th>flag</th>\n",
       "    </tr>\n",
       "  </thead>\n",
       "  <tbody>\n",
       "    <tr>\n",
       "      <th>140.875</th>\n",
       "      <td>0</td>\n",
       "      <td>23645612</td>\n",
       "      <td>8</td>\n",
       "      <td>1</td>\n",
       "    </tr>\n",
       "    <tr>\n",
       "      <th>439.065</th>\n",
       "      <td>0</td>\n",
       "      <td>67596</td>\n",
       "      <td>8</td>\n",
       "      <td>0</td>\n",
       "    </tr>\n",
       "    <tr>\n",
       "      <th>439.413</th>\n",
       "      <td>0</td>\n",
       "      <td>143913571</td>\n",
       "      <td>16</td>\n",
       "      <td>0</td>\n",
       "    </tr>\n",
       "    <tr>\n",
       "      <th>439.626</th>\n",
       "      <td>0</td>\n",
       "      <td>143853507</td>\n",
       "      <td>8</td>\n",
       "      <td>0</td>\n",
       "    </tr>\n",
       "    <tr>\n",
       "      <th>439.754</th>\n",
       "      <td>0</td>\n",
       "      <td>143853491</td>\n",
       "      <td>8</td>\n",
       "      <td>0</td>\n",
       "    </tr>\n",
       "  </tbody>\n",
       "</table>\n",
       "</div>"
      ],
      "text/plain": [
       "         disk     blknum  blkcount  flag\n",
       "140.875     0   23645612         8     1\n",
       "439.065     0      67596         8     0\n",
       "439.413     0  143913571        16     0\n",
       "439.626     0  143853507         8     0\n",
       "439.754     0  143853491         8     0"
      ]
     },
     "execution_count": 11,
     "metadata": {},
     "output_type": "execute_result"
    }
   ],
   "source": [
    "pd_trace=pd.read_csv(trace_file, delimiter=\" \", names=[\"disk\", \"blknum\", \"blkcount\", \"flag\"], index_col=0)\n",
    "pd_trace.head()"
   ]
  },
  {
   "cell_type": "code",
   "execution_count": 12,
   "metadata": {
    "collapsed": false
   },
   "outputs": [],
   "source": [
    "# filter just small writes\n",
    "requests = pd_trace[np.logical_and(pd_trace['blkcount'] <= 64, pd_trace['flag'] == 0)]\n",
    "requests = requests['blknum']"
   ]
  },
  {
   "cell_type": "code",
   "execution_count": 13,
   "metadata": {
    "collapsed": false
   },
   "outputs": [
    {
     "name": "stdout",
     "output_type": "stream",
     "text": [
      "[ 72949  37195   5257 165911   4744   3553      0      0      0      0\n",
      "      0     95      0      0      0      0      0      0      0      0\n",
      "      0      0      0      0      0      0      0      0      0      0\n",
      "      0      0      0      0      0      0      0      0      0      0\n",
      "      0      0      0      0      0      0      0      0      0      0\n",
      "      0      0    112     57     18      0      0      0      0      0\n",
      "      0      0      0      0      0    808   1366    634  36442      0\n",
      "      0      0      0      0      0      0      0      0      0      0\n",
      "      0      0      0      0      0      0      0      0      0      0\n",
      "      0      0      0      0    271    765    148      1    295    342\n",
      "    112    183    279    518    390    708    449    475    492     83\n",
      "    186    117    192    795    259    338    375    237    199    417\n",
      "    172    151     46      0      0      0      0      0      0      0\n",
      "      0      0    126      0    474    282    108    262      0    409\n",
      "      0      0      0      0      0      0      0      0      0      0\n",
      "      0      0      0      0      0      0      0      0      0      0\n",
      "      0      0      0      0      0      0      0   4560    253  14428\n",
      "     26      0    125    221] [        0   2097152   4194304   6291456   8388608  10485760  12582912\n",
      "  14680064  16777216  18874368  20971520  23068672  25165824  27262976\n",
      "  29360128  31457280  33554432  35651584  37748736  39845888  41943040\n",
      "  44040192  46137344  48234496  50331648  52428800  54525952  56623104\n",
      "  58720256  60817408  62914560  65011712  67108864  69206016  71303168\n",
      "  73400320  75497472  77594624  79691776  81788928  83886080  85983232\n",
      "  88080384  90177536  92274688  94371840  96468992  98566144 100663296\n",
      " 102760448 104857600 106954752 109051904 111149056 113246208 115343360\n",
      " 117440512 119537664 121634816 123731968 125829120 127926272 130023424\n",
      " 132120576 134217728 136314880 138412032 140509184 142606336 144703488\n",
      " 146800640 148897792 150994944 153092096 155189248 157286400 159383552\n",
      " 161480704 163577856 165675008 167772160 169869312 171966464 174063616\n",
      " 176160768 178257920 180355072 182452224 184549376 186646528 188743680\n",
      " 190840832 192937984 195035136 197132288 199229440 201326592 203423744\n",
      " 205520896 207618048 209715200 211812352 213909504 216006656 218103808\n",
      " 220200960 222298112 224395264 226492416 228589568 230686720 232783872\n",
      " 234881024 236978176 239075328 241172480 243269632 245366784 247463936\n",
      " 249561088 251658240 253755392 255852544 257949696 260046848 262144000\n",
      " 264241152 266338304 268435456 270532608 272629760 274726912 276824064\n",
      " 278921216 281018368 283115520 285212672 287309824 289406976 291504128\n",
      " 293601280 295698432 297795584 299892736 301989888 304087040 306184192\n",
      " 308281344 310378496 312475648 314572800 316669952 318767104 320864256\n",
      " 322961408 325058560 327155712 329252864 331350016 333447168 335544320\n",
      " 337641472 339738624 341835776 343932928 346030080 348127232 350224384\n",
      " 352321536 354418688 356515840 358612992 360710144 362807296 364904448]\n"
     ]
    }
   ],
   "source": [
    "bin_count = int(np.ceil(float(max(requests)) / bin_size))\n",
    "bins = [i * bin_size for i in xrange(bin_count + 1)]\n",
    "\n",
    "hist, bin_edges  = np.histogram(requests, bins=bins)\n",
    "print hist, bin_edges"
   ]
  },
  {
   "cell_type": "code",
   "execution_count": 14,
   "metadata": {
    "collapsed": false
   },
   "outputs": [],
   "source": [
    "need=int(np.floor(last_block/bin_size))\n",
    "if len(hist) > need:\n",
    "    # since our bin is 1GiB, we need 1024 bins\n",
    "    current_range = (0, need)\n",
    "    current_count = sum([hist[i] for i in xrange(current_range[0], current_range[1])])\n",
    "    max_count = current_count\n",
    "    max_range = current_range\n",
    "    print \"Starting Range:\", current_range, current_count\n",
    "    for i in xrange(need, len(hist)):\n",
    "        current_range = (current_range[0] + 1, current_range[1] + 1)        \n",
    "        current_count = sum([hist[i] for i in xrange(current_range[0], current_range[1])])\n",
    "        if current_count > max_count:\n",
    "            max_count = current_count\n",
    "            max_range = current_range\n",
    "    print \"Max Range:\", max_range, max_count\n",
    "else:\n",
    "    max_range = (0, len(hist))\n",
    "    max_count = sum([hist[i] for i in xrange(max_range[0], max_range[1])])    "
   ]
  },
  {
   "cell_type": "code",
   "execution_count": 15,
   "metadata": {
    "collapsed": false,
    "scrolled": false
   },
   "outputs": [
    {
     "data": {
      "image/png": "[encoded data removed]",
      "text/plain": [
       "<matplotlib.figure.Figure at 0x7f8e7c54d790>"
      ]
     },
     "metadata": {},
     "output_type": "display_data"
    }
   ],
   "source": [
    "barlist = plt.bar(bin_edges[:-1], hist, width = 1, linewidth=3)\n",
    "plt.xlim(min(bin_edges), max(bin_edges))\n",
    "for i in xrange(max_range[0], max_range[1]):\n",
    "    barlist[i].set_color('r')\n",
    "plt.xlabel(\"Block Number in 512-Byte Block\")\n",
    "plt.ylabel(\"IO Count\")\n",
    "plt.show()   "
   ]
  },
  {
   "cell_type": "code",
   "execution_count": 16,
   "metadata": {
    "collapsed": false
   },
   "outputs": [
    {
     "name": "stdout",
     "output_type": "stream",
     "text": [
      "You need to filter from 0 to 364904448\n",
      "You should get 359410 IOs\n"
     ]
    }
   ],
   "source": [
    "print \"You need to filter from\", bin_edges[max_range[0]], \"to\", bin_edges[max_range[1]]\n",
    "print \"You should get\", max_count, \"IOs\""
   ]
  },
  {
   "cell_type": "code",
   "execution_count": null,
   "metadata": {
    "collapsed": true
   },
   "outputs": [],
   "source": []
  }
 ],
 "metadata": {
  "kernelspec": {
   "display_name": "Python 2",
   "language": "python",
   "name": "python2"
  },
  "language_info": {
   "codemirror_mode": {
    "name": "ipython",
    "version": 2
   },
   "file_extension": ".py",
   "mimetype": "text/x-python",
   "name": "python",
   "nbconvert_exporter": "python",
   "pygments_lexer": "ipython2",
   "version": "2.7.10"
  }
 },
 "nbformat": 4,
 "nbformat_minor": 0
}
