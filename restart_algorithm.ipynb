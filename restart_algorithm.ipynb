{
 "cells": [
  {
   "cell_type": "code",
   "execution_count": 1,
   "metadata": {
    "collapsed": true
   },
   "outputs": [],
   "source": [
    "import csv, operator"
   ]
  },
  {
   "cell_type": "code",
   "execution_count": 2,
   "metadata": {
    "collapsed": false
   },
   "outputs": [],
   "source": [
    "path = \"/home/tiratatp/Repositories/snia_traces/T1/LiveMapsBackEnd/Combined\"\n",
    "trace_file = path + \"/disk1_filtered_sheltered.txt\"\n",
    "out_file = path + \"/disk1_filtered_sheltered_writeback.txt\"\n",
    "last_block=1953525167"
   ]
  },
  {
   "cell_type": "code",
   "execution_count": 3,
   "metadata": {
    "collapsed": false
   },
   "outputs": [],
   "source": [
    "all_sheltered_requests = []\n",
    "with open(trace_file, \"r\") as f:\n",
    "    reader = csv.reader(f, delimiter=\" \")\n",
    "    for line in reader:\n",
    "        if line[5] == '1':\n",
    "            all_sheltered_requests.append((int(line[2]) * 512, int(line[3]) * 512))"
   ]
  },
  {
   "cell_type": "code",
   "execution_count": 4,
   "metadata": {
    "collapsed": false
   },
   "outputs": [],
   "source": [
    "all_sheltered_requests = sorted(all_sheltered_requests, key=operator.itemgetter(0))"
   ]
  },
  {
   "cell_type": "code",
   "execution_count": 11,
   "metadata": {
    "collapsed": false
   },
   "outputs": [],
   "source": [
    "# merge consecutive IOs or overlapping IOs\n",
    "overlapping = 0\n",
    "sequential = 0\n",
    "merged_requests = []\n",
    "len_all_sheltered_requests = len(all_sheltered_requests)\n",
    "x = 0\n",
    "while x < len_all_sheltered_requests:\n",
    "    req = all_sheltered_requests[x]\n",
    "    tail = req[0] + req[1]\n",
    "    y = x + 1\n",
    "    while y < len_all_sheltered_requests and tail >= all_sheltered_requests[y][0]:\n",
    "        if tail == all_sheltered_requests[y][0]:\n",
    "            req = (req[0], req[1] + all_sheltered_requests[y][1])            \n",
    "            tail += all_sheltered_requests[y][1]    \n",
    "            sequential += 1\n",
    "        else:\n",
    "            overlapping += 1\n",
    "            tail = max(tail, all_sheltered_requests[y][0] + all_sheltered_requests[y][1])              \n",
    "        y += 1\n",
    "    merged_requests.append(req)\n",
    "    x = y"
   ]
  },
  {
   "cell_type": "code",
   "execution_count": 12,
   "metadata": {
    "collapsed": false
   },
   "outputs": [
    {
     "name": "stdout",
     "output_type": "stream",
     "text": [
      "All: 1600 After merging: 642 After filter out OOB: 642\n"
     ]
    }
   ],
   "source": [
    "filtered_requests = []\n",
    "for r in merged_requests:\n",
    "    tail = r[0] + r[1]\n",
    "    if tail < (last_block * 512):\n",
    "        filtered_requests.append(r)\n",
    "    elif r[0] < last_block:\n",
    "        print r[0], r[1]\n",
    "print \"All: %d After merging: %d After filter out OOB: %d\" % (len(all_sheltered_requests), len(merged_requests), len(filtered_requests))"
   ]
  },
  {
   "cell_type": "code",
   "execution_count": 13,
   "metadata": {
    "collapsed": false
   },
   "outputs": [],
   "source": [
    "with open(out_file, \"w\") as f:\n",
    "    f.write(\"fio version 2 iolog\\n\")\n",
    "    f.write(\"/dev/sdb1 add\\n\")\n",
    "    f.write(\"/dev/sdb1 open\\n\")    \n",
    "    for i in filtered_requests:\n",
    "        f.write(\"%s %s %d %d\\n\" % (\"/dev/sdb1\", \"write\", i[0], i[1]))\n",
    "    f.write(\"/dev/sdb1 close\\n\")\n",
    "    "
   ]
  },
  {
   "cell_type": "code",
   "execution_count": 14,
   "metadata": {
    "collapsed": false
   },
   "outputs": [
    {
     "name": "stdout",
     "output_type": "stream",
     "text": [
      "[(513802240, 4096), (9007267840, 4096), (10789847040, 4096), (10789851136, 8192), (16347299840, 4096)]\n",
      "9281024\n",
      "9281024\n"
     ]
    }
   ],
   "source": [
    "print all_sheltered_requests[:5]\n",
    "print sum([bcount for _, bcount in all_sheltered_requests])\n",
    "print sum([bcount for _, bcount in filtered_requests])"
   ]
  },
  {
   "cell_type": "code",
   "execution_count": 15,
   "metadata": {
    "collapsed": false
   },
   "outputs": [
    {
     "name": "stdout",
     "output_type": "stream",
     "text": [
      "0 958\n"
     ]
    }
   ],
   "source": [
    "print overlapping, sequential"
   ]
  },
  {
   "cell_type": "code",
   "execution_count": null,
   "metadata": {
    "collapsed": true
   },
   "outputs": [],
   "source": []
  }
 ],
 "metadata": {
  "kernelspec": {
   "display_name": "Python 2",
   "language": "python",
   "name": "python2"
  },
  "language_info": {
   "codemirror_mode": {
    "name": "ipython",
    "version": 2
   },
   "file_extension": ".py",
   "mimetype": "text/x-python",
   "name": "python",
   "nbconvert_exporter": "python",
   "pygments_lexer": "ipython2",
   "version": "2.7.10"
  }
 },
 "nbformat": 4,
 "nbformat_minor": 0
}
